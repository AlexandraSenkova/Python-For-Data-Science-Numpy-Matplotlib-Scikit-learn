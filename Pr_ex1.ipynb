{
 "cells": [
  {
   "cell_type": "markdown",
   "id": "c9152a0a",
   "metadata": {},
   "source": [
    "# Тема “Вычисления с помощью Numpy”"
   ]
  },
  {
   "cell_type": "markdown",
   "id": "36e509cc",
   "metadata": {},
   "source": [
    "## Задание 1"
   ]
  },
  {
   "cell_type": "markdown",
   "id": "e88578f0",
   "metadata": {},
   "source": [
    "Импортируйте библиотеку Numpy и дайте ей псевдоним np.\n",
    "Создайте массив Numpy под названием a размером 5x2, то есть состоящий из 5 строк и 2 столбцов. Первый столбец должен содержать числа 1, 2, 3, 3, 1, а второй - числа 6, 8, 11, 10, 7. Будем считать, что каждый столбец - это признак, а строка - наблюдение. Затем найдите среднее значение по каждому признаку, используя метод mean массива Numpy. Результат запишите в массив mean_a, в нем должно быть 2 элемента."
   ]
  },
  {
   "cell_type": "code",
   "execution_count": 53,
   "id": "55943e99",
   "metadata": {},
   "outputs": [],
   "source": [
    "import numpy as np"
   ]
  },
  {
   "cell_type": "code",
   "execution_count": 112,
   "id": "6e03d8a3",
   "metadata": {},
   "outputs": [
    {
     "name": "stdout",
     "output_type": "stream",
     "text": [
      "[[ 1  6]\n",
      " [ 2  8]\n",
      " [ 3 11]\n",
      " [ 3 10]\n",
      " [ 1  7]]\n",
      "среднее значение: [2.  8.4]\n"
     ]
    }
   ],
   "source": [
    "# зададим массивы\n",
    "c = np.array([1, 2, 3, 3, 1])\n",
    "c = c.reshape(1, 5)\n",
    "b = np.array([6, 8, 11, 10, 7])\n",
    "b = b.reshape(1, 5)\n",
    "\n",
    "# объединим (сп-б 1) \n",
    "# a = np.concatenate((c, b), axis = 0)\n",
    "\n",
    "# объединим (сп-б 2) \n",
    "a = np.vstack((c, b))\n",
    "\n",
    "# перевернем матрицу\n",
    "a = a.T\n",
    "\n",
    "# расчитаем среднее и выведем\n",
    "mean_a = a.mean(axis = 0)\n",
    "\n",
    "print(a)\n",
    "print(f'среднее значение: {mean_a}')"
   ]
  },
  {
   "cell_type": "markdown",
   "id": "2ddb4651",
   "metadata": {},
   "source": [
    "### Задание 2"
   ]
  },
  {
   "cell_type": "markdown",
   "id": "4f78f82b",
   "metadata": {},
   "source": [
    "Вычислите массив a_centered, отняв от значений массива “а” средние значения соответствующих признаков, содержащиеся в массиве mean_a. Вычисление должно производиться в одно действие. Получившийся массив должен иметь размер 5x2."
   ]
  },
  {
   "cell_type": "code",
   "execution_count": 113,
   "id": "9d1272ae",
   "metadata": {},
   "outputs": [
    {
     "name": "stdout",
     "output_type": "stream",
     "text": [
      "[[-1.  -2.4]\n",
      " [ 0.  -0.4]\n",
      " [ 1.   2.6]\n",
      " [ 1.   1.6]\n",
      " [-1.  -1.4]]\n"
     ]
    }
   ],
   "source": [
    "a_centered = a - mean_a\n",
    "\n",
    "print(f'массив - среднее: {a_centered}')"
   ]
  },
  {
   "cell_type": "markdown",
   "id": "f625da90",
   "metadata": {},
   "source": [
    "### Задание 3"
   ]
  },
  {
   "cell_type": "markdown",
   "id": "ef412d1d",
   "metadata": {},
   "source": [
    "Найдите скалярное произведение столбцов массива a_centered. В результате должна получиться величина a_centered_sp. Затем поделите a_centered_sp на N-1, где N - число наблюдений."
   ]
  },
  {
   "cell_type": "code",
   "execution_count": 134,
   "id": "9e4d231e",
   "metadata": {},
   "outputs": [
    {
     "name": "stdout",
     "output_type": "stream",
     "text": [
      "Cкалярное произведение: 8.0\n",
      "Ковариация: 2.0\n"
     ]
    }
   ],
   "source": [
    "#  Найдем скалярное произведение столбцов массива:\n",
    "a_s = a_centered[0:5, 0]\n",
    "a_p = a_centered[0:5, 1]\n",
    "\n",
    "a_centered_sp = a_s.dot(a_p)\n",
    "\n",
    "#  Найдем число наблюдений:\n",
    "N = a.shape[0]\n",
    "\n",
    "#  Найдем ковариацию (несмещенная оценка ковариации):\n",
    "cov_a_sp = a_centered_sp / (N - 1)\n",
    "\n",
    "print(f'Cкалярное произведение: {a_centered_sp}\\nКовариация: {cov_a_sp}')"
   ]
  },
  {
   "cell_type": "markdown",
   "id": "89f678ca",
   "metadata": {},
   "source": [
    "### Задание 4**"
   ]
  },
  {
   "cell_type": "markdown",
   "id": "d606f13a",
   "metadata": {},
   "source": [
    "Число, которое мы получили в конце задания 3 является ковариацией двух признаков, содержащихся в массиве “а”. В задании 4 мы делили сумму произведений центрированных признаков на N-1, а не на N, поэтому полученная нами величина является несмещенной оценкой ковариации.\n",
    "Подробнее узнать о ковариации можно здесь:\n",
    "Выборочная ковариация и выборочная дисперсия — Студопедия\n",
    "В этом задании проверьте получившееся число, вычислив ковариацию еще одним способом - с помощью функции np.cov. В качестве аргумента m функция np.cov должна принимать транспонированный массив “a”. В получившейся ковариационной матрице (массив Numpy размером 2x2) искомое значение ковариации будет равно элементу в строке с индексом 0 и столбце с индексом 1."
   ]
  },
  {
   "cell_type": "code",
   "execution_count": 131,
   "id": "f83aaad7",
   "metadata": {},
   "outputs": [
    {
     "name": "stdout",
     "output_type": "stream",
     "text": [
      "Ковариация: 2.0\n"
     ]
    }
   ],
   "source": [
    "a_t = a.T\n",
    "cov_a = np.cov(a_t)\n",
    "\n",
    "print(f'Ковариация: {cov_a[0,1]}')"
   ]
  },
  {
   "cell_type": "markdown",
   "id": "574010a7",
   "metadata": {},
   "source": [
    "## Тема “Работа с данными в Pandas”"
   ]
  },
  {
   "cell_type": "markdown",
   "id": "f8d348fe",
   "metadata": {},
   "source": [
    "### Задание 1"
   ]
  },
  {
   "cell_type": "markdown",
   "id": "9bb0ba32",
   "metadata": {},
   "source": [
    "Импортируйте библиотеку Pandas и дайте ей псевдоним pd. Создайте датафрейм authors со столбцами author_id и author_name, в которых соответственно содержатся данные: [1, 2, 3] и ['Тургенев', 'Чехов', 'Островский'].\n",
    "Затем создайте датафрейм book cо столбцами author_id, book_title и price, в которых соответственно содержатся данные:  \n",
    "[1, 1, 1, 2, 2, 3, 3],\n",
    "['Отцы и дети', 'Рудин', 'Дворянское гнездо', 'Толстый и тонкий', 'Дама с собачкой', 'Гроза', 'Таланты и поклонники'],\n",
    "[450, 300, 350, 500, 450, 370, 290]."
   ]
  },
  {
   "cell_type": "code",
   "execution_count": 239,
   "id": "7598eabb",
   "metadata": {},
   "outputs": [
    {
     "name": "stdout",
     "output_type": "stream",
     "text": [
      "   author_id author_name\n",
      "0          1    Тургенев\n",
      "1          2       Чехов\n",
      "2          3  Островский\n",
      "   author_id            book_title  price\n",
      "0          1           Отцы и дети    450\n",
      "1          1                 Рудин    300\n",
      "2          1     Дворянское гнездо    350\n",
      "3          2      Толстый и тонкий    500\n",
      "4          2       Дама с собачкой    450\n",
      "5          3                 Гроза    370\n",
      "6          3  Таланты и поклонники    290\n"
     ]
    }
   ],
   "source": [
    "import pandas as pd\n",
    "auth = {\n",
    "    \"author_id\": [1, 2, 3],\n",
    "    \"author_name\": ['Тургенев', 'Чехов', 'Островский'] }\n",
    "\n",
    "authors = pd.DataFrame(auth)\n",
    "print(authors)\n",
    "\n",
    "book = {\n",
    "    \"author_id\": [1, 1, 1, 2, 2, 3, 3],\n",
    "    \"book_title\": ['Отцы и дети', 'Рудин', 'Дворянское гнездо', 'Толстый и тонкий', 'Дама с собачкой', 'Гроза', 'Таланты и поклонники'],\n",
    "    \"price\": [450, 300, 350, 500, 450, 370, 290]}\n",
    "\n",
    "books = pd.DataFrame(book)\n",
    "print(books)"
   ]
  },
  {
   "cell_type": "markdown",
   "id": "f1dc16ef",
   "metadata": {},
   "source": [
    "### Задание 2"
   ]
  },
  {
   "cell_type": "markdown",
   "id": "8e8709b2",
   "metadata": {},
   "source": [
    "Получите датафрейм authors_price, соединив датафреймы authors и books по полю author_id."
   ]
  },
  {
   "cell_type": "code",
   "execution_count": 240,
   "id": "d77eff2b",
   "metadata": {},
   "outputs": [
    {
     "name": "stdout",
     "output_type": "stream",
     "text": [
      "   author_id author_name            book_title  price\n",
      "0          1    Тургенев           Отцы и дети    450\n",
      "1          1    Тургенев                 Рудин    300\n",
      "2          1    Тургенев     Дворянское гнездо    350\n",
      "3          2       Чехов      Толстый и тонкий    500\n",
      "4          2       Чехов       Дама с собачкой    450\n",
      "5          3  Островский                 Гроза    370\n",
      "6          3  Островский  Таланты и поклонники    290\n"
     ]
    }
   ],
   "source": [
    "authors_price = pd.merge(authors, books, on='author_id', how='inner')\n",
    "print(authors_price)"
   ]
  },
  {
   "cell_type": "markdown",
   "id": "5fc57267",
   "metadata": {},
   "source": [
    "### Задание 3"
   ]
  },
  {
   "cell_type": "markdown",
   "id": "c73c7fca",
   "metadata": {},
   "source": [
    "Создайте датафрейм top5, в котором содержатся строки из authors_price с пятью самыми дорогими книгами."
   ]
  },
  {
   "cell_type": "code",
   "execution_count": 241,
   "id": "8f5ccbc6",
   "metadata": {},
   "outputs": [
    {
     "name": "stdout",
     "output_type": "stream",
     "text": [
      "   author_id author_name         book_title  price\n",
      "2          1    Тургенев  Дворянское гнездо    350\n",
      "5          3  Островский              Гроза    370\n",
      "0          1    Тургенев        Отцы и дети    450\n",
      "4          2       Чехов    Дама с собачкой    450\n",
      "3          2       Чехов   Толстый и тонкий    500\n",
      "   author_id author_name            book_title  price\n",
      "0          1    Тургенев           Отцы и дети    450\n",
      "1          1    Тургенев                 Рудин    300\n",
      "2          1    Тургенев     Дворянское гнездо    350\n",
      "3          2       Чехов      Толстый и тонкий    500\n",
      "4          2       Чехов       Дама с собачкой    450\n",
      "5          3  Островский                 Гроза    370\n",
      "6          3  Островский  Таланты и поклонники    290\n"
     ]
    }
   ],
   "source": [
    "# чтобы отсортировать, продублируем ДФ authors_price\n",
    "authors_prices = pd.DataFrame(authors_price)\n",
    "authors_prices.sort_values(by=\"price\", inplace=True)\n",
    "# print(authors_price)\n",
    "top5 = authors_prices[-5:len('author_name')]\n",
    "print(top5)\n",
    "# при этом первоначальная сортирвка сохранилась в authors_price\n",
    "print(authors_price)"
   ]
  },
  {
   "cell_type": "markdown",
   "id": "dd837b7d",
   "metadata": {},
   "source": [
    "### Задание 4"
   ]
  },
  {
   "cell_type": "markdown",
   "id": "87cea0a1",
   "metadata": {},
   "source": [
    "Создайте датафрейм authors_stat на основе информации из authors_price. В датафрейме authors_stat должны быть четыре столбца:\n",
    "author_name, min_price, max_price и mean_price,\n",
    "в которых должны содержаться соответственно имя автора, минимальная, максимальная и средняя цена на книги этого автора."
   ]
  },
  {
   "cell_type": "code",
   "execution_count": 242,
   "id": "e3d84323",
   "metadata": {},
   "outputs": [
    {
     "data": {
      "text/html": [
       "<div>\n",
       "<style scoped>\n",
       "    .dataframe tbody tr th:only-of-type {\n",
       "        vertical-align: middle;\n",
       "    }\n",
       "\n",
       "    .dataframe tbody tr th {\n",
       "        vertical-align: top;\n",
       "    }\n",
       "\n",
       "    .dataframe thead th {\n",
       "        text-align: right;\n",
       "    }\n",
       "</style>\n",
       "<table border=\"1\" class=\"dataframe\">\n",
       "  <thead>\n",
       "    <tr style=\"text-align: right;\">\n",
       "      <th></th>\n",
       "      <th>min_price</th>\n",
       "      <th>max_price</th>\n",
       "      <th>mean_price</th>\n",
       "    </tr>\n",
       "    <tr>\n",
       "      <th>author_name</th>\n",
       "      <th></th>\n",
       "      <th></th>\n",
       "      <th></th>\n",
       "    </tr>\n",
       "  </thead>\n",
       "  <tbody>\n",
       "    <tr>\n",
       "      <th>Островский</th>\n",
       "      <td>290</td>\n",
       "      <td>370</td>\n",
       "      <td>330.000000</td>\n",
       "    </tr>\n",
       "    <tr>\n",
       "      <th>Тургенев</th>\n",
       "      <td>300</td>\n",
       "      <td>450</td>\n",
       "      <td>366.666667</td>\n",
       "    </tr>\n",
       "    <tr>\n",
       "      <th>Чехов</th>\n",
       "      <td>450</td>\n",
       "      <td>500</td>\n",
       "      <td>475.000000</td>\n",
       "    </tr>\n",
       "  </tbody>\n",
       "</table>\n",
       "</div>"
      ],
      "text/plain": [
       "             min_price  max_price  mean_price\n",
       "author_name                                  \n",
       "Островский         290        370  330.000000\n",
       "Тургенев           300        450  366.666667\n",
       "Чехов              450        500  475.000000"
      ]
     },
     "execution_count": 242,
     "metadata": {},
     "output_type": "execute_result"
    }
   ],
   "source": [
    "authors_stats = authors_price.groupby(\"author_name\")\n",
    "# сформируем отдельные датафреймы для каждого параметра (min, max, mean)\n",
    "# сразу переименуем заголовки\n",
    "min_price = authors_stats.agg({\"price\": \"min\"}).rename({'price':'min_price'}, axis=1)\n",
    "max_price = authors_stats.agg({\"price\": \"max\"}).rename({'price':'max_price'}, axis=1)\n",
    "mean_price = authors_stats.agg({\"price\": \"mean\"}).rename({'price':'mean_price'}, axis=1)\n",
    "# объединим созданные ДФ\n",
    "authors_stat_1 = pd.merge(min_price, max_price, on='author_name', how='inner')\n",
    "authors_stat = pd.merge(authors_stat_1, mean_price, on='author_name', how='inner')\n",
    "\n",
    "authors_stat"
   ]
  },
  {
   "cell_type": "markdown",
   "id": "4e3e2fca",
   "metadata": {},
   "source": [
    "### Задание 5**"
   ]
  },
  {
   "cell_type": "markdown",
   "id": "e6858c23",
   "metadata": {},
   "source": [
    "Создайте новый столбец в датафрейме authors_price под названием cover, в нем будут располагаться данные о том, какая обложка у данной книги - твердая или мягкая. В этот столбец поместите данные из следующего списка:\n",
    "['твердая', 'мягкая', 'мягкая', 'твердая', 'твердая', 'мягкая', 'мягкая'].\n",
    "Просмотрите документацию по функции pd.pivot_table с помощью вопросительного знака.Для каждого автора посчитайте суммарную стоимость книг в твердой и мягкой обложке. Используйте для этого функцию pd.pivot_table. При этом столбцы должны называться \"твердая\" и \"мягкая\", а индексами должны быть фамилии авторов. Пропущенные значения стоимостей заполните нулями, при необходимости загрузите библиотеку Numpy.\n",
    "Назовите полученный датасет book_info и сохраните его в формат pickle под названием \"book_info.pkl\". Затем загрузите из этого файла датафрейм и назовите его book_info2. Удостоверьтесь, что датафреймы book_info и book_info2 идентичны."
   ]
  },
  {
   "cell_type": "code",
   "execution_count": 224,
   "id": "433eb468",
   "metadata": {},
   "outputs": [],
   "source": [
    " pd.pivot_table?"
   ]
  },
  {
   "cell_type": "code",
   "execution_count": 262,
   "id": "60c7c132",
   "metadata": {},
   "outputs": [
    {
     "name": "stdout",
     "output_type": "stream",
     "text": [
      "             price        \n",
      "cover       мягкая твердая\n",
      "author_name               \n",
      "Островский   660.0       0\n",
      "Тургенев     650.0   450.0\n",
      "Чехов            0   950.0\n",
      "             price        \n",
      "cover       мягкая твердая\n",
      "author_name               \n",
      "Островский   660.0       0\n",
      "Тургенев     650.0   450.0\n",
      "Чехов            0   950.0\n"
     ]
    }
   ],
   "source": [
    "# дополним authors_price столбцом\n",
    "authors_price['cover'] = ['твердая', 'мягкая', 'мягкая', 'твердая', 'твердая', 'мягкая', 'мягкая']\n",
    "# print(authors_price)\n",
    "# создадим сводную таблицу (pd.pivot_table)\n",
    "book_info = pd.pivot_table(authors_price,\n",
    "                            index = [\"author_name\"],\n",
    "                            columns = [\"cover\"],\n",
    "                            values = [\"price\"],\n",
    "                            aggfunc = np.sum)\n",
    "\n",
    "# заменим пустые значения на 0\n",
    "book_info.fillna('0', inplace=True)\n",
    "print(book_info)\n",
    "# запишем ДФ в файл book_info\n",
    "book_info.to_pickle(\"book_info.pkl\")\n",
    "# загрузим датафрейм из этого файла \n",
    "book_info2 = pd.read_pickle(\"book_info.pkl\")\n",
    "print(book_info2)"
   ]
  }
 ],
 "metadata": {
  "kernelspec": {
   "display_name": "Python 3",
   "language": "python",
   "name": "python3"
  },
  "language_info": {
   "codemirror_mode": {
    "name": "ipython",
    "version": 3
   },
   "file_extension": ".py",
   "mimetype": "text/x-python",
   "name": "python",
   "nbconvert_exporter": "python",
   "pygments_lexer": "ipython3",
   "version": "3.8.8"
  }
 },
 "nbformat": 4,
 "nbformat_minor": 5
}
